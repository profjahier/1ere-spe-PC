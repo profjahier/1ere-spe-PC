{
 "cells": [
  {
   "cell_type": "markdown",
   "metadata": {},
   "source": [
    "## Imports de modules scientifiques complémentaires à Python"
   ]
  },
  {
   "cell_type": "code",
   "execution_count": null,
   "metadata": {},
   "outputs": [],
   "source": [
    "import numpy as np                   # module pour manipuler des listes rapidement\n",
    "import matplotlib.pyplot as plt      # module pour tracer les graphiques\n",
    "from scipy.optimize import curve_fit # module pour modéliser une courbe : fonction curve_fit"
   ]
  },
  {
   "cell_type": "markdown",
   "metadata": {},
   "source": [
    "## Créer 2 listes (tableaux np.array) contenant les données expérimentales :\n",
    "On entre les valeurs des positions de l'objet et de l'image sur le banc d'optique,  xA (cm) et xAp (cm), dans des tableaux de type numpy sous la forme :\n",
    "\n",
    "    xA = np.array([valeur1, valeur2, ...])"
   ]
  },
  {
   "cell_type": "code",
   "execution_count": null,
   "metadata": {},
   "outputs": [],
   "source": [
    "# Positions de l'objet en cm en sur le banc d'optique :\n",
    "# Modifiez avec vos valeurs !\n",
    "xA = np.array([-12, -13, -14, -15, -16, -25]) \n",
    "# Entrez de mếme les données pour xAp (position de l'image sur le banc d'optique)\n",
    "# ..."
   ]
  },
  {
   "cell_type": "markdown",
   "metadata": {},
   "source": [
    "## Calcul des inverses des positions sur le banc d'optique 1/xA et 1/xAp :\n",
    "Grâce à l'utiliationdes tableaux numpy, il suffit d'entrer directement la relation mathématique entre les grandeurs. Python \"reporte\" la formule sur chaque valeur de la liste.\n",
    "\n",
    "    Ex : InvxA = 1/xA"
   ]
  },
  {
   "cell_type": "code",
   "execution_count": null,
   "metadata": {},
   "outputs": [],
   "source": [
    "InvxA = 1/xA\n",
    "# Calculez de même les valeurs des inverses de xAp :\n",
    "# ..."
   ]
  },
  {
   "cell_type": "markdown",
   "metadata": {},
   "source": [
    "## Tracé du graphique :\n",
    "Le module matplotlib fournit la fonction plt.plot(x, y) pour tracer l'ordonnée y (liste ou tableau numpy) en fonction d'une abscissse x (liste ou tableau numpy).\n",
    "\n",
    "Ici, on pourra ajouter le paramètre 'r+' de la façon suivante :\n",
    "    \n",
    "    plt.plot(x, y, 'r+') \n",
    "  \n",
    "cela définit la manière de dessiner la courbe : couleur rouge (r) et seulement des points sans ligne (+)."
   ]
  },
  {
   "cell_type": "code",
   "execution_count": null,
   "metadata": {},
   "outputs": [],
   "source": [
    "# Écrivez la ligne de code pour tracer le graphique souhaité (inverse de xAp en fonction de inverse de xA):\n",
    "# ...\n",
    "# Ne pas modifier les lignes suivantes !\n",
    "plt.axis(ymin=0)   # complément pour imposer la valeur minimum de l'axe des ordonnées\n",
    "plt.grid(True)     # complément pour afficher une grille sur le graphique\n",
    "plt.show()         # nécessaire pour afficher le graphique"
   ]
  },
  {
   "cell_type": "markdown",
   "metadata": {},
   "source": [
    "## Modélisation :\n",
    "Visiblement, les points semblent alignés et on souhaite modéliser la courbe expérimentale par une fonction affine.\n",
    "\n",
    "La procédure de modélisation en Python est la suivante :\n",
    "1. **Créer la fonction modèle** qui nous intéresse avec ces paramètres.\n",
    "\n",
    "    *Ex pour définir une fonction linéaire de coefficient directeur a:*\n",
    "        def f(x, a): \n",
    "           return a * x\n",
    "2. Faire appel aux fonctionnalités 'automatiques' de modélisation avec le module spécifique de Python.\n",
    "    **On obtient ainsi les valeurs des paramètres de la fonction** qui permettent au mieux de représenter les valeurs expérimentales *(cela revient à trouver le coefficient directeur a dans l'exple précédent).*\n",
    "    \n",
    "    **Il faut invoquer la fonction curve_fit() en lui passant comme paramètres la fonction modèle définie à l'étape précédente et les abscisses et ordonnées expérimentales**.\n",
    "    \n",
    "3. **Calculer les valeurs modélisées des ordonnées** avec les paramètres déterminés à l'étape précédente en s'appuyant sur la fonction modèle. Puis enfin **tracer le graphique** avec ces données modélisées."
   ]
  },
  {
   "cell_type": "markdown",
   "metadata": {},
   "source": [
    "### Observez le code Python ci-dessous qui fait le travail demandé !"
   ]
  },
  {
   "cell_type": "code",
   "execution_count": null,
   "metadata": {},
   "outputs": [],
   "source": [
    "# étape 1 : définition de la fonction modèle\n",
    "def f_affine(x, a, b):\n",
    "    \"\"\" Modèle d'une fonction affine \"\"\"\n",
    "    return a * x + b\n",
    "\n",
    "# étape 2 : modélisation : \n",
    "parametres = curve_fit(f_affine, InvxA, InvxAp)[0] # obtention des paramètres optimisés du modèle\n",
    "a, b = parametres[0], parametres[1]                # extraction de chacun des paramètres\n",
    "print(f\"a = {a} ; b = {b}\")                        # affichage des paramètres\n",
    "\n",
    "# étape 3 : calcul des ordonnées avec la fonction du modèle et les paramètres optimisés\n",
    "y_model = f_affine(InvxA, a, b)\n",
    "\n",
    "# tracé des graphes :\n",
    "plt.plot(InvxA, InvxAp, 'r+') # valeurs epérimentales (points rouges)\n",
    "plt.plot(InvxA, y_model, 'b') # valeurs modélisées (courbe bleue)\n",
    "\n",
    "plt.axis(ymin=0)  # complément de paramètres graphiques\n",
    "plt.grid(True)    # complément de paramètres graphiques\n",
    "\n",
    "plt.show()        # affichage du graphique"
   ]
  },
  {
   "cell_type": "markdown",
   "metadata": {},
   "source": [
    "### A vous de jouer : copier le code précédent et l'adapter pour modéliser les points expérimentaux par la fonction théorique : 1/xAp = 1/xA + 1/f\n",
    "Remarquez que cette fonction est du type y = x + 1/f."
   ]
  },
  {
   "cell_type": "code",
   "execution_count": null,
   "metadata": {},
   "outputs": [],
   "source": [
    "# au travail dans cette cellule...\n",
    "# ..."
   ]
  },
  {
   "cell_type": "code",
   "execution_count": null,
   "metadata": {},
   "outputs": [],
   "source": []
  }
 ],
 "metadata": {
  "kernelspec": {
   "display_name": "Python 3",
   "language": "python",
   "name": "python3"
  },
  "language_info": {
   "codemirror_mode": {
    "name": "ipython",
    "version": 3
   },
   "file_extension": ".py",
   "mimetype": "text/x-python",
   "name": "python",
   "nbconvert_exporter": "python",
   "pygments_lexer": "ipython3",
   "version": "3.7.5"
  }
 },
 "nbformat": 4,
 "nbformat_minor": 4
}
