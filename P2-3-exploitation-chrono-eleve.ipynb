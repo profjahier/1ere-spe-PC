{
 "cells": [
  {
   "cell_type": "code",
   "execution_count": null,
   "metadata": {},
   "outputs": [],
   "source": [
    "import csv                          # module pour lire les fichiers CSV\n",
    "import matplotlib.pyplot as plt     # module pour tracer les graphiques"
   ]
  },
  {
   "cell_type": "markdown",
   "metadata": {},
   "source": [
    "### Lecture des données depuis un fichier de 'pointage' au format CSV\n",
    "Avec affichage des premières lignes de données (remarquer en particulier les 1eres lignes qui indiquent les descripteurs)"
   ]
  },
  {
   "cell_type": "code",
   "execution_count": null,
   "metadata": {},
   "outputs": [],
   "source": [
    "with open('chrono.csv', 'r') as f:   # ouverture du fichier\n",
    "    data = list(csv.reader(f))       # extration des données\n",
    "    \n",
    "# affichage des premières lignes\n",
    "for ligne in data[:5]:\n",
    "    print(ligne)"
   ]
  },
  {
   "cell_type": "markdown",
   "metadata": {},
   "source": [
    "### Extraction en 3 listes des instants t, et des abscisses et ordonnées x et y\n",
    "*Remarque 1* :  adapter l'indice du début pour \"sauter\" les lignes d'en-tête\n",
    "\n",
    "*Remarque 2* :  le fichier CSV contient des données sous forme de texte qu'il faut convertir en nombre (`float`)\n",
    "\n",
    "*Remarque 3* : on ne relève pas tous les points (1 point sur 3 seulement) pour faciliter la lisibilité par la suite."
   ]
  },
  {
   "cell_type": "code",
   "execution_count": null,
   "metadata": {},
   "outputs": [],
   "source": [
    "t = [float(ligne[0]) for ligne in data[2::3]]\n",
    "x = [float(ligne[1]) for ligne in data[2::3]]\n",
    "y = [float(ligne[2]) for ligne in data[2::3]]"
   ]
  },
  {
   "cell_type": "markdown",
   "metadata": {},
   "source": [
    "### Représentation graphique des positions "
   ]
  },
  {
   "cell_type": "code",
   "execution_count": null,
   "metadata": {},
   "outputs": [],
   "source": [
    "plt.figure(figsize=(6, 6))   # taille du graphique (en pouces)\n",
    "plt.axis('equal')            # pour avoir un repère orthonormé\n",
    "plt.plot(x, y, 'o')\n",
    "plt.ylabel('y (m)')\n",
    "plt.xlabel('x (m)')\n",
    "plt.title('Chronophotographie du mouvement')\n",
    "plt.show()"
   ]
  },
  {
   "cell_type": "markdown",
   "metadata": {},
   "source": [
    "### Calcul des coordonnées du vecteur vitesse\n",
    "$v_xi = \\dfrac{M_iM_{i+1}}{t_{i+1} - t_i} $\n",
    "\n",
    "$v_x[i] = \\dfrac{x[i+1] - x[i]}{t[i+1] - t[i]}$\n",
    "\n",
    "*Remarque* : on ne peut pas calculer les cordonnées du vecteur vitesse au dernier point !"
   ]
  },
  {
   "cell_type": "code",
   "execution_count": null,
   "metadata": {},
   "outputs": [],
   "source": [
    "vx = []\n",
    "for i in range(len(x)-1):\n",
    "    vx.append((x[i+1] - x[i]) / (t[i+1] - t[i]))\n",
    "        \n",
    "### COMPLETER POUR OBTENIR LE CALCUL DE Vy :\n",
    "# ..."
   ]
  },
  {
   "cell_type": "markdown",
   "metadata": {},
   "source": [
    "### Représentation graphique du vecteur vitesse\n",
    "*On ne représente le vecteur vitesse que 1 point sur 3 pour y voir plus clair...*\n",
    "\n",
    "`plt.quiver` permet de tracer des vecteurs. \n",
    "La syntaxe utilisée repose sur le modèle suivant : `plt.quiver(x, y, vect_x, vect_y)` \n",
    "\n",
    "- x et y sont les coordonnées du point d'origine de la représenation du vecteur.\n",
    "- vec_x et vect_y sont les coordonnées du vecteur.\n",
    "\n",
    "\n",
    "\n",
    "*Complément d'explication*  : `x[:-1:3]` sélectionne toutes les abscisses du 1er point jusqu'à l'avant dernier, en n'en gardant que 1 sur 3.\n",
    "\n",
    "`scale=5, scale_units='xy', angles='xy'` définit l'échelle de vitesse dans le repère orthornormé : **1 m correspond à 5 m/s**.\n",
    "\n"
   ]
  },
  {
   "cell_type": "code",
   "execution_count": null,
   "metadata": {},
   "outputs": [],
   "source": [
    "plt.figure(figsize=(6, 6))   # taille du graphique (en pouces)\n",
    "plt.axis('equal')            # pour avoir un repère orthonormé\n",
    "plt.plot(x, y, '+')\n",
    "plt.ylabel('y (m)')\n",
    "plt.xlabel('x (m)')\n",
    "\n",
    "# pas entre deux points d'affichage (modification autorisée) :\n",
    "pas = 3                      \n",
    "\n",
    "# ajout des vecteurs vitesse :\n",
    "plt.quiver(x[:-1:pas], y[:-1:pas], vx[::pas], vy[::pas], scale=5, scale_units='xy', angles='xy', color='red')\n",
    "\n",
    "plt.title('Vecteur vitesse')\n",
    "plt.show()"
   ]
  },
  {
   "cell_type": "markdown",
   "metadata": {},
   "source": [
    "### Calcul des coordonnées du vecteur variation de vitesse\n",
    "$Dv_x[i,i+1] = \\dfrac{v_x[i+1] - v_x[i]}{t[i+1] - t[i]}$\n",
    "\n",
    "*Remarque* : on ne peut pas calculer les cordonnées du vecteur variation de vitesse pour le dernier point où l'on connaît une vitesse (càd qu'on ne connait pas Dv pour les 2 derniers points de position)."
   ]
  },
  {
   "cell_type": "code",
   "execution_count": null,
   "metadata": {},
   "outputs": [],
   "source": [
    "### COMPLETER POUR OBTENIR LE CALCUL DE DVx et DVy :\n",
    "# ..."
   ]
  },
  {
   "cell_type": "markdown",
   "metadata": {},
   "source": [
    "### Représentation graphique du variation du vecteur vitesse\n",
    "On propose de tracer sur le même graphique le vecteur vitesse, l'opposé du vecteur vitesse du point précédent, et le vecteur variation de vitesse.\n",
    "\n",
    "On peut contrôler deux paramètres pour faciliter la visibilité des vecteurs :\n",
    "- l'échelle de représentation des vitesses\n",
    "- le pas entre deux points où l'on représente les vecteurs"
   ]
  },
  {
   "cell_type": "code",
   "execution_count": null,
   "metadata": {},
   "outputs": [],
   "source": [
    "plt.figure(figsize=(7, 7))   # taille du graphique (en pouces)\n",
    "plt.axis('equal')            # pour avoir un repère orthonormé\n",
    "plt.plot(x, y, 'bo')\n",
    "plt.ylabel('y (m)')\n",
    "plt.xlabel('x (m)')\n",
    "\n",
    "# échelle de représentation des vitesses (modification autorisée) :\n",
    "echelle_v = 10 \n",
    "# pas entre deux points d'affichage (modification autorisée) :\n",
    "pas = 1   \n",
    "\n",
    "# affichage des vecteurs vitesse\n",
    "plt.quiver(x[1:-1:pas], y[1:-1:pas], vx[1::pas], vy[1::pas], scale=echelle_v, scale_units='xy', color='red', angles='xy', label='v[i]')\n",
    "\n",
    "# affichage de l'opposé des vecteurs vitesse du point précédent (!)\n",
    "plt.quiver([x[i]+vx[i]/echelle_v for i in range(len(x)-1)][1::pas], [y[i]+vy[i]/echelle_v for i in range(len(y)-1)][1::pas],\\\n",
    "           [-v for v in vx][:-1:pas], [-v for v in vy][:-1:pas],\\\n",
    "           scale=echelle_v, scale_units='xy', color='purple', angles='xy', label='- v[i-1]')\n",
    "\n",
    "# affichage des vecteurs variation de vitesse :\n",
    "### COMPLETER LA LIGNE POUR OBTENIR L'AFFICHAGE DU VECTEUR DV (ne pas oublier de décommenter la ligne !):\n",
    "# On doit représenter ce vecteur entre les points d'indice 1 et l'avant dernier point d'indice -1\n",
    "# en respectant le pas entre 2 affichages.\n",
    "# Tous les points de la liste des vecteurs DV sont tracés en respectant le pas.\n",
    "# plt.quiver(..., ..., ..., ..., scale=echelle_v, scale_units='xy', color='green', angles='xy', label='Dv[i-1,i]')\n",
    "\n",
    "plt.title('Vecteur variation de vitesse')\n",
    "plt.legend(loc='center')\n",
    "plt.show()"
   ]
  },
  {
   "cell_type": "code",
   "execution_count": null,
   "metadata": {},
   "outputs": [],
   "source": []
  }
 ],
 "metadata": {
  "kernelspec": {
   "display_name": "Python 3.8.1 64-bit ('python38': conda)",
   "language": "python",
   "name": "python38164bitpython38conda56991d5ad1414e06a4dcd344400cf456"
  },
  "language_info": {
   "codemirror_mode": {
    "name": "ipython",
    "version": 3
   },
   "file_extension": ".py",
   "mimetype": "text/x-python",
   "name": "python",
   "nbconvert_exporter": "python",
   "pygments_lexer": "ipython3",
   "version": "3.8.1"
  }
 },
 "nbformat": 4,
 "nbformat_minor": 4
}
