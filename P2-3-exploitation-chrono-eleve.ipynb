{
 "cells": [
  {
   "cell_type": "code",
   "execution_count": null,
   "metadata": {},
   "outputs": [],
   "source": [
    "import csv                          # module pour lire lees fichiers CSV\n",
    "import matplotlib.pyplot as plt     # module pour tracer les graphiques"
   ]
  },
  {
   "cell_type": "markdown",
   "metadata": {},
   "source": [
    "### Lecture des données depuis un fichier de 'pointage' au format CSV\n",
    "Avec affichage des premières lignes de données (remarquer en particulier les 1eres lignes qui indiquent les descripteurs)"
   ]
  },
  {
   "cell_type": "code",
   "execution_count": null,
   "metadata": {},
   "outputs": [],
   "source": [
    "with open('chrono.csv', 'r') as f:   # ouverture du fichier\n",
    "    data = list(csv.reader(f))       # extration des données\n",
    "    \n",
    "# affichage des premières lignes\n",
    "for ligne in data[:5]:\n",
    "    print(ligne)"
   ]
  },
  {
   "cell_type": "markdown",
   "metadata": {},
   "source": [
    "### Extraction en 3 listes des instants t, et des abscisses et ordonnées x et y\n",
    "*Remarque 1* :  adapter l'indice du début pour \"sauter\" les lignes d'en-tête\n",
    "\n",
    "*Remarque 2* :  le fichier CSV contient des données sous forme de texte qu'il faut convertir en nombre (`float`)"
   ]
  },
  {
   "cell_type": "code",
   "execution_count": null,
   "metadata": {},
   "outputs": [],
   "source": [
    "t = [float(ligne[0]) for ligne in data[2:]]\n",
    "x = [float(ligne[1]) for ligne in data[2:]]\n",
    "y = [float(ligne[2]) for ligne in data[2:]]"
   ]
  },
  {
   "cell_type": "markdown",
   "metadata": {},
   "source": [
    "### Représentation graphique des positions "
   ]
  },
  {
   "cell_type": "code",
   "execution_count": null,
   "metadata": {},
   "outputs": [],
   "source": [
    "plt.figure(figsize=(6, 6))   # taille du graphique (en pouces)\n",
    "plt.axis('equal')            # pour avoir un repère orthonormé\n",
    "plt.plot(x, y, 'o')\n",
    "plt.ylabel('y (m)')\n",
    "plt.xlabel('x (m)')\n",
    "plt.title('Chronophotographie du mouvement')\n",
    "plt.show()"
   ]
  },
  {
   "cell_type": "markdown",
   "metadata": {},
   "source": [
    "### Calcul des coordonnées du vecteur vitesse\n",
    "$v_xi = \\dfrac{M_{i-1}M_{i+1}}{t_{i+1} - t_{i-1}} $\n",
    "\n",
    "$v_x[i] = \\dfrac{x[i+1] - x[i-1]}{t[i+1] - t[i-1]}$\n",
    "\n",
    "*Remarque* : on ne peut pas calculer les cordonnées du vecteur vitesse au premier point et au dernier point !"
   ]
  },
  {
   "cell_type": "markdown",
   "metadata": {},
   "source": [
    "### Représentation graphique du vecteur vitesse (arrow)\n",
    "*On représente un vecteur vitesse en déssinant une flèche (arrow).*\n",
    "\n",
    "`plt.arrow` permet de tracer des vecteurs (simples flèches). \n",
    "La syntaxe utilisée repose sur le modèle suivant : `plt.arrow(x, y, vect_x, vect_y)` \n",
    "\n",
    "- x et y sont les coordonnées du point d'origine de la représenation du vecteur.\n",
    "- vec_x et vect_y sont les coordonnées du vecteur.\n",
    "\n",
    "ATTENTION : Il faut définir une échelle de vitesse pour tracer la flèche représentant le vecteur vitesse. (on pourra le faire par tatônnement)"
   ]
  },
  {
   "cell_type": "code",
   "execution_count": null,
   "metadata": {},
   "outputs": [],
   "source": [
    "plt.figure(figsize=(6, 6))   # taille du graphique (en pouces)\n",
    "plt.axis('equal')            # pour avoir un repère orthonormé\n",
    "plt.plot(x, y, '.')\n",
    "plt.ylabel('y (m)')\n",
    "plt.xlabel('x (m)')\n",
    "plt.scatter(x[0], y[0], color='black') # position initiale\n",
    "\n",
    "echelle = 7                 # facteur d'échelle de représentation des vitesses\n",
    "for i in range(2, len(t)-2, 3):\n",
    "    # ex : i = 5 \n",
    "    # vx5 = (x6 - x4) / (t6 - t4)\n",
    "    # vy5 = (y6 - y4) / (t6 - t4)\n",
    "    # COMPLÉTER LES DEUX LIGNES SUIVANTES :\n",
    "    # vxi = ...\n",
    "    # vyi = ...\n",
    "    vxi, vyi = vxi/echelle, vyi/echelle # mise à l'échelle\n",
    "    # Tracer du vecteur de coordonnées (vxi, vyi) au point (x[i], y[i]) :\n",
    "    plt.arrow(x[i], y[i], vxi, vyi, color='red', length_includes_head=True, width=.003)\n",
    "    \n",
    "plt.title('Vecteur vitesse')\n",
    "plt.show()"
   ]
  },
  {
   "cell_type": "markdown",
   "metadata": {},
   "source": [
    "### Représentation graphique du variation du vecteur vitesse (arrow)\n",
    "On propose en un point $i$ le vecteur vitesse au point suivant $\\overrightarrow{v_{i+1}}$, l'opposé du vecteur vitesse du point précédent $-\\overrightarrow{v_{i-1}}$, et le vecteur variation de vitesse $\\overrightarrow{\\Delta v_i} = \\overrightarrow{v_{i+1}} - \\overrightarrow{v_{i-1}}$."
   ]
  },
  {
   "cell_type": "code",
   "execution_count": null,
   "metadata": {},
   "outputs": [],
   "source": [
    "plt.figure(figsize=(7, 7))   # taille du graphique (en pouces)\n",
    "plt.axis('equal')            # pour avoir un repère orthonormé\n",
    "plt.plot(x, y, '.')\n",
    "plt.ylabel('y (m)')\n",
    "plt.xlabel('x (m)')\n",
    "plt.scatter(x[0], y[0], color='black')\n",
    "\n",
    "echelle = 2\n",
    "for i in [9, 16, 24, 32, 41]:  # points où l'on va tracer les vecteurs variations de vitesse\n",
    "    # ex : au point i = 4  \n",
    "    vxip1 = (x[i+2] - x[i]) / (t[i+2] - t[i])  # vx[i+1] => vx5 = (x6 - x4) / (t6 - t4)\n",
    "    vyip1 = (y[i+2] - y[i]) / (t[i+2] - t[i])  # vy[i+1] => vy5 = (y6 - y4) / (t6 - t4)\n",
    "    vxim1 = (x[i] - x[i-2]) / (t[i] - t[i-2])  # vx[i-1] => vx3 = (x4 - x2) / (t4 - t2)\n",
    "    vyim1 = (y[i] - y[i-2]) / (t[i] - t[i-2])  # vy[i-1] => vy3 = (y4 - y2) / (t4 - t2)\n",
    "    # COMPLÉTER LA LIGNE SUIVANTE (coordonnées du vecteur variation de vitesse ):\n",
    "    #Dvxi = ... \n",
    "    #Dvyi = ...\n",
    "\n",
    "    # mise à l'échelle :\n",
    "    vxip1, vyip1, vxim1, vyim1 = vxip1/echelle, vyip1/echelle, vxim1/echelle, vyim1/echelle\n",
    "    Dvxi, Dvyi = Dvxi/echelle, Dvyi/echelle\n",
    "    \n",
    "    plt.arrow(x[i], y[i], vxip1, vyip1, color='red', length_includes_head=True, width=.003)\n",
    "    plt.arrow(x[i]+vxip1, y[i]+vyip1, -vxim1, -vyim1, color='blue', length_includes_head=True, width=.003)\n",
    "    # COMPLÉTER LA LIGNE SUIVANTE POUR TRACER LE VECTEUR VARIATION DE VITESSE AU POINT i:\n",
    "    # plt.arrow(..., ..., ..., ..., color='green', length_includes_head=True, width=.003)\n",
    "    \n",
    "\n",
    "plt.title('Vecteur variation de vitesse')\n",
    "plt.show()"
   ]
  },
  {
   "cell_type": "markdown",
   "metadata": {},
   "source": [
    "# Un autre exemple : chute parabolique\n",
    "Pour finir, on propose d'étudier de manière similaire un autre mouvement. Celui d'une balle de tennis lancée en l'air.\n",
    "Le fichier de pointage est <code>tennis-parabole.csv</code>.\n",
    "\n",
    "1. Tracer la variation du vecteur vitesse aux points i=8 et i=15.\n",
    "2. Décrire ce vecteur (direction et sens).\n",
    "3. Comparer aux forces appliquées à la balle de tennis pendant son \"vol\"."
   ]
  },
  {
   "cell_type": "code",
   "execution_count": null,
   "metadata": {},
   "outputs": [],
   "source": [
    "with open('tennis-parabole.csv', 'r') as f:   # ouverture du fichier\n",
    "    data = list(csv.reader(f))       # extration des données\n",
    "    \n",
    "t = [float(ligne[0]) for ligne in data[2:]]\n",
    "x = [float(ligne[1]) for ligne in data[2:]]\n",
    "y = [float(ligne[2]) for ligne in data[2:]]"
   ]
  },
  {
   "cell_type": "code",
   "execution_count": null,
   "metadata": {},
   "outputs": [],
   "source": [
    "plt.figure(figsize=(7, 7))   # taille du graphique (en pouces)\n",
    "plt.axis('equal')            # pour avoir un repère orthonormé\n",
    "plt.plot(x, y, '.')\n",
    "plt.ylabel('y (m)')\n",
    "plt.xlabel('x (m)')\n",
    "plt.scatter(x[0], y[0], color='black')\n",
    "\n",
    "echelle = 2\n",
    "\n",
    "for i in [8, 15]:\n",
    "    # ex : i = 4  \n",
    "    vxip1 = (x[i+2] - x[i]) / (t[i+2] - t[i])  # vx5 = (x6 - x4) / (t6 - t4)\n",
    "    vyip1 = (y[i+2] - y[i]) / (t[i+2] - t[i])  # vy5 = (y6 - y4) / (t6 - t4)\n",
    "    vxim1 = (x[i] - x[i-2]) / (t[i] - t[i-2])  # vx3 = (x4 - x2) / (t4 - t2)\n",
    "    vyim1 = (y[i] - y[i-2]) / (t[i] - t[i-2])  # vy3 = (y4 - y2) / (t4 - t2)\n",
    "    Dvxi = vxip1 - vxim1                       # Dvx4 = vx5 - vx3\n",
    "    Dvyi = vyip1 - vyim1                       # Dvy4 = vy5 - vy3\n",
    "    vxip1, vyip1, vxim1, vyim1 = vxip1/echelle, vyip1/echelle, vxim1/echelle, vyim1/echelle\n",
    "    Dvxi, Dvyi = Dvxi/echelle, Dvyi/echelle\n",
    "    plt.arrow(x[i], y[i], vxip1, vyip1, color='red', length_includes_head=True, width=.01)\n",
    "    plt.arrow(x[i]+vxip1, y[i]+vyip1, -vxim1, -vyim1, color='blue', length_includes_head=True, width=.01)\n",
    "    plt.arrow(x[i], y[i], Dvxi, Dvyi, color='green', length_includes_head=True, width=.01)\n",
    "\n",
    "plt.title('Vecteur variation de vitesse')\n",
    "plt.show()"
   ]
  },
  {
   "cell_type": "code",
   "execution_count": null,
   "metadata": {},
   "outputs": [],
   "source": []
  },
  {
   "cell_type": "code",
   "execution_count": null,
   "metadata": {},
   "outputs": [],
   "source": []
  }
 ],
 "metadata": {
  "kernelspec": {
   "display_name": "Python 3.8.1 64-bit ('python38': conda)",
   "language": "python",
   "name": "python38164bitpython38conda56991d5ad1414e06a4dcd344400cf456"
  },
  "language_info": {
   "codemirror_mode": {
    "name": "ipython",
    "version": 3
   },
   "file_extension": ".py",
   "mimetype": "text/x-python",
   "name": "python",
   "nbconvert_exporter": "python",
   "pygments_lexer": "ipython3",
   "version": "3.8.1"
  }
 },
 "nbformat": 4,
 "nbformat_minor": 4
}
